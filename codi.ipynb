{
 "cells": [
  {
   "cell_type": "code",
   "execution_count": 1,
   "metadata": {
    "collapsed": false
   },
   "outputs": [
    {
     "name": "stderr",
     "output_type": "stream",
     "text": [
      "/usr/lib/python3.5/site-packages/matplotlib/backends/backend_gtk3agg.py:18: UserWarning: The Gtk3Agg backend is known to not work on Python 3.x with pycairo. Try installing cairocffi.\n",
      "  \"The Gtk3Agg backend is known to not work on Python 3.x with pycairo. \"\n"
     ]
    }
   ],
   "source": [
    "import matplotlib.pyplot as plt\n",
    "from Network import *\n",
    "%matplotlib inline"
   ]
  },
  {
   "cell_type": "code",
   "execution_count": null,
   "metadata": {
    "collapsed": false
   },
   "outputs": [],
   "source": [
    "class Network(object):\n",
    "    \n",
    "    def  __init__(self, sizes):\n",
    "        #define Hyperparameters\n",
    "        self.numLayers = len(sizes)\n",
    "        self.sizes = sizes\n",
    "        self.weights = [np.random.randn(x, y) for x, y in zip(sizes[:-1], sizes[1:])]\n",
    "        \n",
    "    def forward(self, X):\n",
    "        #return output when input is X\n",
    "        a = X\n",
    "        self.Z = []\n",
    "        self.A = [X]\n",
    "        for w in self.weights:\n",
    "            zi = np.dot(a, w)\n",
    "            self.Z.append(zi)\n",
    "            a = self.sigmoid(zi)\n",
    "            self.A.append(a)\n",
    "        return self.A[-1]\n",
    "    \n",
    "    def back(self, X, y):\n",
    "        #backpropagates error to weights from inputs X and expected output O\n",
    "        #derivaive of sigmoid(output sum[sigmoid**-1(forward)])\n",
    "        dj = self.costFunctionPrime(X, y)\n",
    "        scalar = 3\n",
    "        for i in range(0, len(dj)):\n",
    "            self.weights[i] = self.weights[i] - scalar*dj[i]  \n",
    "        cost2 = self.costFunction(X, y)\n",
    "        return cost2\n",
    "        \n",
    "    \n",
    "    def sigmoid(self, z):\n",
    "        return 1.0/(1.0+np.exp(-z))\n",
    "    \n",
    "    def sigmoidPrime(self, z):\n",
    "        return self.sigmoid(z)*(1-self.sigmoid(z))\n",
    "    \n",
    "    def costFunction(self, X, y):\n",
    "        self.yHat = self.forward(X)\n",
    "        s = [0.5*(y-yH)**2 for y, yH in zip(y, self.yHat)]\n",
    "        return sum(s)\n",
    "    \n",
    "    def costDerivative(self, oa, y):\n",
    "        return y-oa\n",
    "    \n",
    "    def costFunctionPrime(self, X, y):\n",
    "        self.yHat = self.forward(X)\n",
    "        dJdWx = [[0]]*(self.numLayers-1)\n",
    "        #first delta\n",
    "        d = np.multiply(self.costDerivative(y, self.yHat), self.sigmoidPrime(self.Z[-1]))\n",
    "        dJdWx[-1] = np.dot(self.A[-2].T, d)\n",
    "        #propagation\n",
    "        for l in range(2, self.numLayers):\n",
    "            zi = self.Z[-l]\n",
    "            sp = self.sigmoidPrime(zi)\n",
    "            d = np.multiply(np.dot(d, self.weights[-l+1].T), sp)\n",
    "            dJdWx[-l] = np.dot(self.A[-l-1].T, d)\n",
    "        return dJdWx\n",
    "            "
   ]
  },
  {
   "cell_type": "code",
   "execution_count": 2,
   "metadata": {
    "collapsed": false
   },
   "outputs": [
    {
     "name": "stdout",
     "output_type": "stream",
     "text": [
      "[array([[-0.25982743,  0.10449877, -0.4022258 ,  2.44866523],\n",
      "       [-0.51026148,  1.04678788,  0.49292623, -0.7428197 ]]), array([[-0.8042964 ],\n",
      "       [-2.28308439],\n",
      "       [ 1.11989934],\n",
      "       [ 0.22656987]])]\n"
     ]
    }
   ],
   "source": [
    "N = Network([2, 4, 1])\n",
    "print(N.weights)\n",
    "#XOR example\n",
    "X = np.array(([0,0], [0,1], [1,0], [1,1]))\n",
    "y = np.array(([0], [1], [1], [0]))"
   ]
  },
  {
   "cell_type": "code",
   "execution_count": 3,
   "metadata": {
    "collapsed": false
   },
   "outputs": [
    {
     "data": {
      "text/plain": [
       "[<matplotlib.lines.Line2D at 0x7f9d494c1b70>]"
      ]
     },
     "execution_count": 3,
     "metadata": {},
     "output_type": "execute_result"
    },
    {
     "data": {
      "image/png": "[encoded data removed]",
      "text/plain": [
       "<matplotlib.figure.Figure at 0x7f9d4954e208>"
      ]
     },
     "metadata": {},
     "output_type": "display_data"
    }
   ],
   "source": [
    "cost = []\n",
    "it = 500\n",
    "for i in range(it):   \n",
    "    cost.append(N.back(X, y))\n",
    "plt.plot(range(it), cost)"
   ]
  },
  {
   "cell_type": "code",
   "execution_count": 4,
   "metadata": {
    "collapsed": false
   },
   "outputs": [
    {
     "data": {
      "text/plain": [
       "array([[ 0.05268456],\n",
       "       [ 0.95049854],\n",
       "       [ 0.9574829 ],\n",
       "       [ 0.0469892 ]])"
      ]
     },
     "execution_count": 4,
     "metadata": {},
     "output_type": "execute_result"
    }
   ],
   "source": [
    "N.forward(X)"
   ]
  },
  {
   "cell_type": "code",
   "execution_count": 5,
   "metadata": {
    "collapsed": false
   },
   "outputs": [
    {
     "data": {
      "text/plain": [
       "[array([[-4.6104511 , -2.83815699, -6.13215212,  3.3939296 ],\n",
       "        [-4.59012067,  6.27813042,  2.88266892,  3.05926881]]),\n",
       " array([[-9.35507582],\n",
       "        [-7.20047183],\n",
       "        [ 7.0670194 ],\n",
       "        [ 3.70990895]])]"
      ]
     },
     "execution_count": 5,
     "metadata": {},
     "output_type": "execute_result"
    }
   ],
   "source": [
    "N.weights"
   ]
  },
  {
   "cell_type": "code",
   "execution_count": null,
   "metadata": {
    "collapsed": false
   },
   "outputs": [
    {
     "data": {
      "text/plain": [
       "<matplotlib.text.Text at 0x7f9d493f4ac8>"
      ]
     },
     "execution_count": 6,
     "metadata": {},
     "output_type": "execute_result"
    }
   ],
   "source": [
    "#Test network for various combinations:\n",
    "in1 = np.linspace(0, 1, 100)\n",
    "in2 = np.linspace(0, 1, 100)\n",
    "\n",
    "#Create 2-d versions of input for plotting\n",
    "a, b  = np.meshgrid(in1, in2)\n",
    "\n",
    "#Join into a single input matrix:\n",
    "allInputs = np.zeros((a.size, 2))\n",
    "allInputs[:, 0] = a.ravel()\n",
    "allInputs[:, 1] = b.ravel()\n",
    "\n",
    "\n",
    "allOutputs = N.forward(allInputs)\n",
    "yy = np.dot(in1.reshape(100,1), np.ones((1,100)))\n",
    "xx = np.dot(in1.reshape(100,1), np.ones((1,100))).T\n",
    "\n",
    "#3D plot:\n",
    "\n",
    "##Uncomment to plot out-of-notebook (you'll be able to rotate)\n",
    "#%matplotlib qt\n",
    "\n",
    "from mpl_toolkits.mplot3d import Axes3D\n",
    "fig = plt.figure()\n",
    "ax = fig.gca(projection='3d')\n",
    "\n",
    "surf = ax.plot_surface(xx, yy, allOutputs.reshape(100, 100))\n",
    "\n",
    "ax.set_xlabel('in1')\n",
    "ax.set_ylabel('in2')\n",
    "ax.set_zlabel('out')"
   ]
  },
  {
   "cell_type": "code",
   "execution_count": null,
   "metadata": {
    "collapsed": false
   },
   "outputs": [],
   "source": [
    "#Same with deeper network\n",
    "NN = Network([2, 10, 15, 1])\n",
    "cost = []\n",
    "it = 500\n",
    "for i in range(it):   \n",
    "    cost.append(NN.back(X, y))\n",
    "plt.plot(range(it), cost)"
   ]
  },
  {
   "cell_type": "code",
   "execution_count": null,
   "metadata": {
    "collapsed": false
   },
   "outputs": [],
   "source": [
    "print(NN.forward(X))\n",
    "#Test network for various combinations:\n",
    "in1 = np.linspace(0, 1, 100)\n",
    "in2 = np.linspace(0, 1, 100)\n",
    "\n",
    "#Create 2-d versions of input for plotting\n",
    "a, b  = np.meshgrid(in1, in2)\n",
    "\n",
    "#Join into a single input matrix:\n",
    "allInputs = np.zeros((a.size, 2))\n",
    "allInputs[:, 0] = a.ravel()\n",
    "allInputs[:, 1] = b.ravel()\n",
    "\n",
    "\n",
    "allOutputs = NN.forward(allInputs)\n",
    "yy = np.dot(in1.reshape(100,1), np.ones((1,100)))\n",
    "xx = np.dot(in1.reshape(100,1), np.ones((1,100))).T\n",
    "\n",
    "#3D plot:\n",
    "\n",
    "##Uncomment to plot out-of-notebook (you'll be able to rotate)\n",
    "#%matplotlib qt\n",
    "\n",
    "from mpl_toolkits.mplot3d import Axes3D\n",
    "fig = plt.figure()\n",
    "ax = fig.gca(projection='3d')\n",
    "\n",
    "surf = ax.plot_surface(xx, yy, allOutputs.reshape(100, 100))\n",
    "\n",
    "ax.set_xlabel('in1')\n",
    "ax.set_ylabel('in2')\n",
    "ax.set_zlabel('out')"
   ]
  },
  {
   "cell_type": "code",
   "execution_count": null,
   "metadata": {
    "collapsed": true
   },
   "outputs": [],
   "source": []
  }
 ],
 "metadata": {
  "kernelspec": {
   "display_name": "Python 3",
   "language": "python",
   "name": "python3"
  },
  "language_info": {
   "codemirror_mode": {
    "name": "ipython",
    "version": 3
   },
   "file_extension": ".py",
   "mimetype": "text/x-python",
   "name": "python",
   "nbconvert_exporter": "python",
   "pygments_lexer": "ipython3",
   "version": "3.5.0"
  }
 },
 "nbformat": 4,
 "nbformat_minor": 0
}
